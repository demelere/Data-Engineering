{
 "cells": [
  {
   "cell_type": "markdown",
   "metadata": {
    "colab_type": "text",
    "id": "yB3rm5qbuucx"
   },
   "source": [
    "# Module 1 Assignment: Search Algorithm Performance\n",
    "## Stephen Lin"
   ]
  },
  {
   "cell_type": "code",
   "execution_count": 0,
   "metadata": {
    "colab": {},
    "colab_type": "code",
    "id": "htYOsKKHLyXj"
   },
   "outputs": [],
   "source": [
    "import numpy as np\n",
    "import pandas as pd\n",
    "import matplotlib.pyplot as plt\n",
    "from timeit import default_timer as timer"
   ]
  },
  {
   "cell_type": "code",
   "execution_count": 0,
   "metadata": {
    "colab": {},
    "colab_type": "code",
    "id": "vc048csJN4qM"
   },
   "outputs": [],
   "source": [
    "def binary_search(list, item):\n",
    "  # low and high keep track of which part of the list you'll search in.\n",
    "  low = 0\n",
    "  high = len(list) - 1\n",
    "\n",
    "  # While you haven't narrowed it down to one element ...\n",
    "  while low <= high:\n",
    "    # ... check the middle element\n",
    "    mid = (low + high) // 2\n",
    "    guess = list[mid]\n",
    "    # Found the item.\n",
    "    if guess == item:\n",
    "      return mid\n",
    "    # The guess was too high.\n",
    "    if guess > item:\n",
    "      high = mid - 1\n",
    "    # The guess was too low.\n",
    "    else:\n",
    "      low = mid + 1\n",
    "\n",
    "  # Item doesn't exist\n",
    "  return None"
   ]
  },
  {
   "cell_type": "code",
   "execution_count": 0,
   "metadata": {
    "colab": {},
    "colab_type": "code",
    "id": "9NIngXC6-mRG"
   },
   "outputs": [],
   "source": [
    "def linear_search(list, item):\n",
    "    for i in range(len(list)):\n",
    "        if (list[i] == item):\n",
    "            return i;    \n",
    "    # Item doesn't Exist\n",
    "    return None;"
   ]
  },
  {
   "cell_type": "markdown",
   "metadata": {
    "colab_type": "text",
    "id": "oVLsH2SmPBfr"
   },
   "source": [
    "**1. To begin, let's generate some random data to work with. Ensure that a common random number seed is used to generate each of the arrays. We will make five arrays, each of length 512, 1024, 2048, 4096, and 8192 containing randomly generated uniformly distributed integers from 1 to 10000.  You may use the numpy package for this.**"
   ]
  },
  {
   "cell_type": "code",
   "execution_count": 0,
   "metadata": {
    "colab": {},
    "colab_type": "code",
    "id": "ydO-PWthOsKT"
   },
   "outputs": [],
   "source": [
    "# 512, 1024, 2048, 4096, and 8192\n",
    "np.random.seed(100)\n",
    "a1=np.random.randint(1,10000,512)\n",
    "a2=np.random.randint(1,10000,1024)\n",
    "a3=np.random.randint(1,10000,2048)\n",
    "a4=np.random.randint(1,10000,4096)\n",
    "a5=np.random.randint(1,10000,8192)"
   ]
  },
  {
   "cell_type": "markdown",
   "metadata": {
    "colab_type": "text",
    "id": "DWg1NlkrQ-Ez"
   },
   "source": [
    "**2. Sort each of the random number arrays from smallest to largest.  You may use any algorithm to sort the data.**"
   ]
  },
  {
   "cell_type": "code",
   "execution_count": 20,
   "metadata": {
    "colab": {
     "base_uri": "https://localhost:8080/",
     "height": 187
    },
    "colab_type": "code",
    "id": "4ybY65rdQ-d7",
    "outputId": "7ec65d9b-836a-4bc3-9607-4bc3799a95c8"
   },
   "outputs": [
    {
     "name": "stdout",
     "output_type": "stream",
     "text": [
      "512 sort time(ms): 0.09452299991608015 \n",
      "\n",
      "1024 sort time(ms): 0.1996080000026268 \n",
      "\n",
      "2048 sort time(ms): 0.24050799993347027 \n",
      "\n",
      "4096 sort time(ms): 0.38906899999346933 \n",
      "\n",
      "8192 sort time(ms): 0.7002419999935228 \n",
      "\n"
     ]
    }
   ],
   "source": [
    "start = timer()\n",
    "a1=np.sort(a1)\n",
    "stop = timer()\n",
    "sort_time1 = (stop - start)*1000\n",
    "print('512 sort time(ms):',sort_time1,'\\n')\n",
    "\n",
    "start = timer()\n",
    "a2=np.sort(a2)\n",
    "stop = timer()\n",
    "sort_time2 = (stop - start)*1000\n",
    "print('1024 sort time(ms):',sort_time2,'\\n')\n",
    "\n",
    "start = timer()\n",
    "a3=np.sort(a3)\n",
    "stop = timer()\n",
    "sort_time3 = (stop - start)*1000\n",
    "print('2048 sort time(ms):',sort_time3,'\\n')\n",
    "\n",
    "start = timer()\n",
    "a4=np.sort(a4)\n",
    "stop = timer()\n",
    "sort_time4 = (stop - start)*1000\n",
    "print('4096 sort time(ms):',sort_time4,'\\n')\n",
    "\n",
    "start = timer()\n",
    "a5=np.sort(a5)\n",
    "stop = timer()\n",
    "sort_time5 = (stop - start)*1000\n",
    "print('8192 sort time(ms):',sort_time5,'\\n')"
   ]
  },
  {
   "cell_type": "markdown",
   "metadata": {
    "colab_type": "text",
    "id": "1oi5CsXKRdeN"
   },
   "source": [
    "**3. Execute the base search algorithm (binary search) (from the text and github code) for each of array, noting the execution time for each array.  With each execution use the maximum value of the random number array as the number for which you are searching.**"
   ]
  },
  {
   "cell_type": "code",
   "execution_count": 21,
   "metadata": {
    "colab": {
     "base_uri": "https://localhost:8080/",
     "height": 187
    },
    "colab_type": "code",
    "id": "Do_xA-v3RguE",
    "outputId": "b1f11af5-bf77-42cf-c440-7772d7ca10ac"
   },
   "outputs": [
    {
     "name": "stdout",
     "output_type": "stream",
     "text": [
      "512 execution time(ms): 0.07100099992385367 \n",
      "\n",
      "1024 execution time(ms): 0.04460000013750687 \n",
      "\n",
      "2048 execution time(ms): 0.04346900004748022 \n",
      "\n",
      "4096 execution time(ms): 0.09054099996319565 \n",
      "\n",
      "8192 execution time(ms): 0.051413999926808174 \n",
      "\n"
     ]
    }
   ],
   "source": [
    "start = timer()\n",
    "binary_search(a1,a1[len(a1)-1])\n",
    "stop = timer()\n",
    "bs_time1 = (stop - start)*1000\n",
    "print('512 execution time(ms):',bs_time1,'\\n')\n",
    "\n",
    "start = timer()\n",
    "binary_search(a2,a2[len(a2)-1])\n",
    "stop = timer()\n",
    "bs_time2 = (stop - start)*1000\n",
    "print('1024 execution time(ms):',bs_time2,'\\n')\n",
    "\n",
    "start = timer()\n",
    "binary_search(a3,a3[len(a3)-1])\n",
    "stop = timer()\n",
    "bs_time3 = (stop - start)*1000\n",
    "print('2048 execution time(ms):',bs_time3,'\\n')\n",
    "\n",
    "start = timer()\n",
    "binary_search(a4,a4[len(a4)-1])\n",
    "stop = timer()\n",
    "bs_time4 = (stop - start)*1000\n",
    "print('4096 execution time(ms):',bs_time4,'\\n')\n",
    "\n",
    "start = timer()\n",
    "binary_search(a5,a5[len(a5)-1])\n",
    "stop = timer()\n",
    "bs_time5 = (stop - start)*1000\n",
    "print('8192 execution time(ms):',bs_time5,'\\n')"
   ]
  },
  {
   "cell_type": "markdown",
   "metadata": {
    "colab_type": "text",
    "id": "otdIrUPmTBT9"
   },
   "source": [
    "**4. Now we will compare this to a linear search.  Use python (perhaps with the Pandas package) to prepare a five-column table containing the following columns with all times in milliseconds:**\n",
    "*   length of the random number array\n",
    "*   sort time\n",
    "*   linear search time for the sorted array\n",
    "*   binary search time for the sorted array\n",
    "*   binary search plus sort times"
   ]
  },
  {
   "cell_type": "code",
   "execution_count": 22,
   "metadata": {
    "colab": {
     "base_uri": "https://localhost:8080/",
     "height": 187
    },
    "colab_type": "code",
    "id": "dbtqsOG1-uz7",
    "outputId": "9f019ab8-f03c-4bc6-f26c-8c9dee1859fa"
   },
   "outputs": [
    {
     "name": "stdout",
     "output_type": "stream",
     "text": [
      "512 execution time(ms): 0.13451600011649134 \n",
      "\n",
      "1024 execution time(ms): 0.27951499987466377 \n",
      "\n",
      "2048 execution time(ms): 0.4220650000661408 \n",
      "\n",
      "4096 execution time(ms): 0.7965570000578737 \n",
      "\n",
      "8192 execution time(ms): 1.4475929999662185 \n",
      "\n"
     ]
    }
   ],
   "source": [
    "start = timer()\n",
    "linear_search(a1,a1[len(a1)-1])\n",
    "stop = timer()\n",
    "ls_time1 = (stop - start)*1000 \n",
    "print('512 execution time(ms):', ls_time1,'\\n') \n",
    "\n",
    "#Size 1024\n",
    "start = timer()\n",
    "linear_search(a2,a2[len(a2)-1])\n",
    "stop = timer()\n",
    "ls_time2 = (stop - start)*1000\n",
    "print('1024 execution time(ms):', ls_time2,'\\n') \n",
    "\n",
    "#Size 2048\n",
    "start = timer()\n",
    "linear_search(a3,a3[len(a3)-1])\n",
    "stop = timer()\n",
    "ls_time3 = (stop - start)*1000\n",
    "print('2048 execution time(ms):', ls_time3,'\\n') \n",
    "\n",
    "#Size 4096\n",
    "start = timer()\n",
    "linear_search(a4,a4[len(a4)-1])\n",
    "stop = timer()\n",
    "ls_time4 = (stop - start)*1000\n",
    "print('4096 execution time(ms):', ls_time4,'\\n') \n",
    "\n",
    "#Size 8192\n",
    "start = timer()\n",
    "linear_search(a5,a5[len(a5)-1])\n",
    "stop = timer()\n",
    "ls_time5  = (stop - start)*1000\n",
    "print('8192 execution time(ms):', ls_time5,'\\n') "
   ]
  },
  {
   "cell_type": "code",
   "execution_count": 26,
   "metadata": {
    "colab": {
     "base_uri": "https://localhost:8080/",
     "height": 204
    },
    "colab_type": "code",
    "id": "s6EcgvW1948d",
    "outputId": "750d1b5f-1ba6-4659-bf33-80cef79afe39"
   },
   "outputs": [
    {
     "data": {
      "text/html": [
       "<div>\n",
       "<style scoped>\n",
       "    .dataframe tbody tr th:only-of-type {\n",
       "        vertical-align: middle;\n",
       "    }\n",
       "\n",
       "    .dataframe tbody tr th {\n",
       "        vertical-align: top;\n",
       "    }\n",
       "\n",
       "    .dataframe thead th {\n",
       "        text-align: right;\n",
       "    }\n",
       "</style>\n",
       "<table border=\"1\" class=\"dataframe\">\n",
       "  <thead>\n",
       "    <tr style=\"text-align: right;\">\n",
       "      <th></th>\n",
       "      <th>Array Length</th>\n",
       "      <th>Sort Time</th>\n",
       "      <th>Linear Search Time</th>\n",
       "      <th>Binary Search Time</th>\n",
       "      <th>Binary Search + Sort Time</th>\n",
       "    </tr>\n",
       "  </thead>\n",
       "  <tbody>\n",
       "    <tr>\n",
       "      <th>0</th>\n",
       "      <td>512.0</td>\n",
       "      <td>0.094523</td>\n",
       "      <td>0.134516</td>\n",
       "      <td>0.071001</td>\n",
       "      <td>0.165524</td>\n",
       "    </tr>\n",
       "    <tr>\n",
       "      <th>1</th>\n",
       "      <td>1024.0</td>\n",
       "      <td>0.199608</td>\n",
       "      <td>0.279515</td>\n",
       "      <td>0.044600</td>\n",
       "      <td>0.244208</td>\n",
       "    </tr>\n",
       "    <tr>\n",
       "      <th>2</th>\n",
       "      <td>2048.0</td>\n",
       "      <td>0.240508</td>\n",
       "      <td>0.422065</td>\n",
       "      <td>0.043469</td>\n",
       "      <td>0.283977</td>\n",
       "    </tr>\n",
       "    <tr>\n",
       "      <th>3</th>\n",
       "      <td>4096.0</td>\n",
       "      <td>0.389069</td>\n",
       "      <td>0.796557</td>\n",
       "      <td>0.090541</td>\n",
       "      <td>0.479610</td>\n",
       "    </tr>\n",
       "    <tr>\n",
       "      <th>4</th>\n",
       "      <td>8192.0</td>\n",
       "      <td>0.700242</td>\n",
       "      <td>1.447593</td>\n",
       "      <td>0.051414</td>\n",
       "      <td>0.751656</td>\n",
       "    </tr>\n",
       "  </tbody>\n",
       "</table>\n",
       "</div>"
      ],
      "text/plain": [
       "   Array Length  Sort Time  ...  Binary Search Time  Binary Search + Sort Time\n",
       "0         512.0   0.094523  ...            0.071001                   0.165524\n",
       "1        1024.0   0.199608  ...            0.044600                   0.244208\n",
       "2        2048.0   0.240508  ...            0.043469                   0.283977\n",
       "3        4096.0   0.389069  ...            0.090541                   0.479610\n",
       "4        8192.0   0.700242  ...            0.051414                   0.751656\n",
       "\n",
       "[5 rows x 5 columns]"
      ]
     },
     "execution_count": 26,
     "metadata": {
      "tags": []
     },
     "output_type": "execute_result"
    }
   ],
   "source": [
    "t_df = pd.DataFrame(np.array([[len(a1), sort_time1, ls_time1, \n",
    "                                          bs_time1, sort_time1+bs_time1],\n",
    "                                        [len(a2), sort_time2, ls_time2, \n",
    "                                          bs_time2, sort_time2+bs_time2],\n",
    "                                        [len(a3), sort_time3, ls_time3, \n",
    "                                          bs_time3, sort_time3+bs_time3],\n",
    "                                        [len(a4), sort_time4, ls_time4, \n",
    "                                          bs_time4, sort_time4+bs_time4],\n",
    "                                        [len(a5), sort_time5, ls_time5, \n",
    "                                          bs_time5, sort_time5+bs_time5]]),\n",
    "                              columns=['Array Length', 'Sort Time', 'Linear Search Time', 'Binary Search Time', 'Binary Search + Sort Time'])\n",
    "t_df"
   ]
  },
  {
   "cell_type": "markdown",
   "metadata": {
    "colab_type": "text",
    "id": "6UkJy26HTEn8"
   },
   "source": [
    "**5. Use python matplotlib or Seaborn to generate a plot with the size of the random number array on the horizontal axis and with execution time in milliseconds on the vertical axis. The plot should show execution time against array size for linear and binary search algorithms alone.  Discuss the results.**"
   ]
  },
  {
   "cell_type": "code",
   "execution_count": 37,
   "metadata": {
    "colab": {
     "base_uri": "https://localhost:8080/",
     "height": 295
    },
    "colab_type": "code",
    "id": "Yij5z_wOmCM4",
    "outputId": "937494fb-e56a-402d-aa01-95c43b63c2aa"
   },
   "outputs": [
    {
     "data": {
      "image/png": "[encoded data removed]",
      "text/plain": [
       "<Figure size 432x288 with 1 Axes>"
      ]
     },
     "metadata": {
      "needs_background": "light",
      "tags": []
     },
     "output_type": "display_data"
    }
   ],
   "source": [
    "a_sizes=[512, 1024, 2048, 4096, 8192]\n",
    "\n",
    "plt.plot(a_sizes,\n",
    "         [ls_time1, ls_time2, ls_time3, ls_time4, ls_time5],\n",
    "         'aqua',\n",
    "         a_sizes,\n",
    "         [bs_time1, bs_time2, bs_time3, bs_time4, bs_time5],\n",
    "         'coral')\n",
    "plt.axis([0, 9000, 0, 1.5000])\n",
    "plt.xlabel('Array Size')\n",
    "plt.ylabel('Execution Time')\n",
    "plt.title('Array Size vs Execution Time')\n",
    "plt.legend(['Linear', 'Binary'], loc=2)\n",
    "plt.show()"
   ]
  },
  {
   "cell_type": "markdown",
   "metadata": {
    "colab_type": "text",
    "id": "jEC3TUdbqglj"
   },
   "source": [
    "**Discussion:**\n",
    "<br>\n",
    "The linear search times are much slower than binary search times.  Linear search has to iterate through each item in the array, one by one, in order to find a value (e.g. in the worst case, it would take 512 steps if the item is at at the end of an array of length 512), while binary search takes significantly fewer steps.  Linear search performs at a complexity of O(n), while binary search performs at O(log n).  However, if you have a smaller number of elements (e.g. 100 or less), linear search might perform equally, if not better than binary search.  "
   ]
  },
  {
   "cell_type": "markdown",
   "metadata": {
    "colab_type": "text",
    "id": "p6-bjuFPLiJi"
   },
   "source": [
    "**6. Use Python matplotlib or Seaborn to generate a measure of the size of the data set on the horizontal axis and with execution time in milliseconds on the vertical axis. The plot should show execution time against array size for each form of the algorithm being tested (last four columns of the table).  Discuss the results.**"
   ]
  },
  {
   "cell_type": "code",
   "execution_count": 40,
   "metadata": {
    "colab": {
     "base_uri": "https://localhost:8080/",
     "height": 295
    },
    "colab_type": "code",
    "id": "DeizQROH32lr",
    "outputId": "21ee0948-b934-4848-8a83-50fd220da1e2"
   },
   "outputs": [
    {
     "data": {
      "image/png": "[encoded data removed]",
      "text/plain": [
       "<Figure size 432x288 with 1 Axes>"
      ]
     },
     "metadata": {
      "needs_background": "light",
      "tags": []
     },
     "output_type": "display_data"
    }
   ],
   "source": [
    "plt.plot(a_sizes,\n",
    "         [sort_time1, sort_time2, sort_time3, sort_time4, sort_time5],\n",
    "         'blue',\n",
    "         a_sizes,\n",
    "         [ls_time1, ls_time2, ls_time3, ls_time4, ls_time5],\n",
    "         'aqua',\n",
    "         a_sizes,\n",
    "         [bs_time1, bs_time2, bs_time3, bs_time4, bs_time5],\n",
    "         'coral',\n",
    "         a_sizes,\n",
    "         [sort_time1+bs_time1, sort_time2+bs_time2, sort_time3+bs_time3, sort_time4+bs_time4, sort_time5+bs_time5],\n",
    "         'magenta')\n",
    "plt.axis([0, 9000, 0, 1.5000])\n",
    "plt.xlabel('Array Size')\n",
    "plt.ylabel('Execution Time')\n",
    "plt.title('Array Size vs Execution Time')\n",
    "plt.legend(['Sort', 'Linear', 'Binary', 'Sort + Binary'], loc=2)\n",
    "plt.show()"
   ]
  },
  {
   "cell_type": "markdown",
   "metadata": {
    "colab_type": "text",
    "id": "ZQoL-zF6spLt"
   },
   "source": [
    "**Discussion:**\n",
    "<br>\n",
    "It's helpful to also factor in sort times into the analysis, because binary search requires an array to be sorted in order to be able to search for a value.  It does so, because it repeatedly divdes in half the part of the array that might contain the item until the the array has been narrowed down to one.  Thus, it's important to factor in the compute time that it takes the prepare the dataset for this operation as well.  As we can see, for datasets of size 512, the compute time is roughly similar, but as the size increases, sorting and performing binary search outperforms linear search."
   ]
  },
  {
   "cell_type": "markdown",
   "metadata": {
    "colab_type": "text",
    "id": "jYYg8-Pfu4U0"
   },
   "source": [
    "**Executive Summary:**\n",
    "<br>\n",
    "In this study, we compared two search algorithms: linear search and binary search.  We use a metric called Big O notation to make this comparison.  Big O notation describes the worst case (i.e. upper bound) for how computationally complex an algorithm can get.  In order to implement this, we measure the amount of time each algorithm takes to finish running.  \n",
    "<br>\n",
    "Binary search is preferable in most cases, because in the worst case, the amount of steps it will take to run will be no more than the minimum exponent 2 must be raised in order to equal or exceed the number (e.g. if there are 512 numbers in a dataset, it will take at most 9 steps for a binary search algorithm to locate a number, because 2^9=512).  Whereas, linear search may take up to 512 steps in the worst case if the number it is searching for is located at the end, and it has to go step by step through the entire dataset in order to find it.  \n",
    "<br>\n",
    "However, there are some other considerations to factor in.  Binary search needs to be sorted in order to be effective.  In many cases, binary search is still more effective than linear search, even when including sorting time.  However, linear search is practical when the dataset is small, or if the dataset cannot be ordered or reorganized into a more effcient search data structure.  "
   ]
  },
  {
   "cell_type": "code",
   "execution_count": 0,
   "metadata": {
    "colab": {},
    "colab_type": "code",
    "id": "VICJDGABwCpY"
   },
   "outputs": [],
   "source": []
  }
 ],
 "metadata": {
  "colab": {
   "collapsed_sections": [],
   "name": "432 - Assignment 1.ipynb",
   "provenance": []
  },
  "kernelspec": {
   "display_name": "Python 3",
   "language": "python",
   "name": "python3"
  },
  "language_info": {
   "codemirror_mode": {
    "name": "ipython",
    "version": 3
   },
   "file_extension": ".py",
   "mimetype": "text/x-python",
   "name": "python",
   "nbconvert_exporter": "python",
   "pygments_lexer": "ipython3",
   "version": "3.6.8"
  }
 },
 "nbformat": 4,
 "nbformat_minor": 1
}
