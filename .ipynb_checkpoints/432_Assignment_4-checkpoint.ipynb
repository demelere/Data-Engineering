{
 "cells": [
  {
   "cell_type": "markdown",
   "metadata": {},
   "source": [
    "# Module 4 Assignment: Quicksort Implementation\n",
    "## Stephen Lin"
   ]
  },
  {
   "cell_type": "code",
   "execution_count": 14,
   "metadata": {},
   "outputs": [],
   "source": [
    "import pandas as pd\n",
    "import numpy as np\n",
    "import time\n",
    "import matplotlib.pyplot as plt\n",
    "import seaborn as sns\n",
    "import random\n",
    "import string"
   ]
  },
  {
   "cell_type": "code",
   "execution_count": 26,
   "metadata": {},
   "outputs": [],
   "source": [
    "def quick_sort(array):\n",
    "  if len(array) < 2: # base case in which arrays with 0 or 1 element are already sorted\n",
    "    return array \n",
    "  else: # recursive case\n",
    "    pivot = array[0] \n",
    "    less = [i for i in array[1:] if i <= pivot] # sub-array of all the elements less than the pivot\n",
    "    greater = [i for i in array[1:] if i > pivot] # sub-array of all the elements greater than the pivot\n",
    "    return quick_sort(less) + [pivot] + quick_sort(greater)"
   ]
  },
  {
   "cell_type": "code",
   "execution_count": 16,
   "metadata": {},
   "outputs": [],
   "source": [
    "def merge_sort(array): \n",
    "    arr = array.copy()\n",
    "    if len(arr) >1: \n",
    "        mid = len(arr)//2 # find element in the middle of the array \n",
    "        L = arr[:mid] # divide the array into halves\n",
    "        R = arr[mid:] \n",
    "  \n",
    "        merge_sort(L) # sort the first half \n",
    "        merge_sort(R) # sort the second half \n",
    "  \n",
    "        i = j = k = 0\n",
    "          \n",
    "        while i < len(L) and j < len(R): # copy data to arrays\n",
    "            if L[i] < R[j]: \n",
    "                arr[k] = L[i] \n",
    "                i+=1\n",
    "            else: \n",
    "                arr[k] = R[j] \n",
    "                j+=1\n",
    "            k+=1\n",
    "          \n",
    "        while i < len(L): # check for element on the left half\n",
    "            arr[k] = L[i] \n",
    "            i+=1\n",
    "            k+=1\n",
    "          \n",
    "        while j < len(R): # check for element on the right half\n",
    "            arr[k] = R[j] \n",
    "            j+=1\n",
    "            k+=1"
   ]
  },
  {
   "cell_type": "code",
   "execution_count": 17,
   "metadata": {},
   "outputs": [],
   "source": [
    "def bubble_sort(array): \n",
    "    n = len(array) \n",
    "\n",
    "    for i in range(n): # traverse through all array elements \n",
    "        for j in range(0, n-i-1): # last i elements are already in place \n",
    "            if array[j] > array[j+1] : # traverse the array from 0 to n-i-1 \n",
    "                array[j], array[j+1] = array[j+1], array[j] # swap if the element found is greater than the next element "
   ]
  },
  {
   "cell_type": "code",
   "execution_count": 18,
   "metadata": {},
   "outputs": [],
   "source": [
    "def insertion_sort(array): \n",
    "    for i in range(1, len(array)): # traverse from 1 through length of array\n",
    "        key = array[i] \n",
    "        j = i-1 # move elements of arr[0..i-1], that are greater than key, to one position ahead of their current position \n",
    "        while j >= 0 and key < array[j] : \n",
    "                array[j + 1] = array[j] \n",
    "                j -= 1\n",
    "        array[j + 1] = key"
   ]
  },
  {
   "cell_type": "markdown",
   "metadata": {},
   "source": [
    "**1. Set up five lists of randomly generated strings of length 50 characters, each with a length of 200, 400, 600, 800, 1000.  You may use the code we used in previous homework assignments.  Make sure the list is unsorted and does not contain any duplicates.**"
   ]
  },
  {
   "cell_type": "code",
   "execution_count": 19,
   "metadata": {},
   "outputs": [],
   "source": [
    "# randomly generate strings of length 50 characters\n",
    "# store in arrays of increasing length\n",
    "def create_string_array(array_length):\n",
    "    random.seed(500)\n",
    "    string_array = [''.join(random.choices(string.ascii_letters, k=50)) for j in range(array_length)]\n",
    "    if len(set(string_array)) < array_length:\n",
    "        string_array = [''.join(random.choices(string.ascii_letters, k=50)) for j in range(array_length)]\n",
    "        create_string_arrays(array_length)\n",
    "    return string_array"
   ]
  },
  {
   "cell_type": "markdown",
   "metadata": {},
   "source": [
    "**2. Use the textbook implementation of quicksort to sort the data, being sure to capture the amount of time it takes for each list.**"
   ]
  },
  {
   "cell_type": "code",
   "execution_count": 20,
   "metadata": {},
   "outputs": [
    {
     "name": "stdout",
     "output_type": "stream",
     "text": [
      "Quick Sort execution time on arrays of different lengths \n",
      "\n",
      "Length 200: 0.0026 seconds\n",
      "Length 400: 0.00368 seconds\n",
      "Length 600: 0.00349 seconds\n",
      "Length 800: 0.00299 seconds\n",
      "Length 1000: 0.00252 seconds\n"
     ]
    }
   ],
   "source": [
    "# quick sort\n",
    "array_lengths = [200,400,600,800,1000] # define arrays\n",
    "arrays = []\n",
    "quick_sort_execution_times = []\n",
    "print('Quick Sort execution time on arrays of different lengths', '\\n')\n",
    "\n",
    "for length in array_lengths:\n",
    "    string_array = create_string_array(length)\n",
    "    arrays.append(string_array)\n",
    "\n",
    "for i in arrays:\n",
    "    start = time.perf_counter()\n",
    "    quick_sort(string_array)\n",
    "    end = time.perf_counter()\n",
    "    quick_sort_execution_time = round((end-start),5)\n",
    "    \n",
    "    print(f'Length {len(i)}: {quick_sort_execution_time} seconds')\n",
    "    quick_sort_execution_times.append(quick_sort_execution_time)"
   ]
  },
  {
   "cell_type": "markdown",
   "metadata": {},
   "source": [
    "**3. Now use at least two other sorting algorithms on the same data set (e.g. merge sort, bubble sort, insertion sort, etc).  Make sure that you code the sorting algorithm and you do not use a builtin function. By this I mean you may not use np.sort() or sorted(), etc.  You must code the algorithm in order to compare the complexity of each.  Here is a good resource https://www.geeksforgeeks.org/sorting-algorithms/ (Links to an external site.)).  Capture the computation time for each list using each sorting algorithm that you have used.**\n"
   ]
  },
  {
   "cell_type": "code",
   "execution_count": 21,
   "metadata": {},
   "outputs": [
    {
     "name": "stdout",
     "output_type": "stream",
     "text": [
      "Merge Sort execution time on arrays of different lengths \n",
      "\n",
      "Length 200: 0.0011 seconds\n",
      "Length 400: 0.00258 seconds\n",
      "Length 600: 0.0044 seconds\n",
      "Length 800: 0.00437 seconds\n",
      "Length 1000: 0.0049 seconds\n"
     ]
    }
   ],
   "source": [
    "# merge sort\n",
    "array_lengths = [200,400,600,800,1000]\n",
    "arrays = []\n",
    "merge_sort_execution_times = []\n",
    "print('Merge Sort execution time on arrays of different lengths', '\\n')\n",
    "\n",
    "for length in array_lengths: # create five arrays\n",
    "    string_array = create_string_array(length)\n",
    "    arrays.append(string_array)\n",
    "\n",
    "for i in arrays:\n",
    "    start = time.perf_counter()\n",
    "    merge_sort(i)\n",
    "    end = time.perf_counter()\n",
    "    merge_sort_execution_time = round((end-start),5)\n",
    "    print(f'Length {len(i)}: {merge_sort_execution_time} seconds')\n",
    "    merge_sort_execution_times.append(merge_sort_execution_time)"
   ]
  },
  {
   "cell_type": "code",
   "execution_count": 22,
   "metadata": {},
   "outputs": [
    {
     "name": "stdout",
     "output_type": "stream",
     "text": [
      "Bubble Sort execution time on arrays of different lengths \n",
      "\n",
      "Length 200: 0.00563 seconds\n",
      "Length 400: 0.02358 seconds\n",
      "Length 600: 0.05305 seconds\n",
      "Length 800: 0.10301 seconds\n",
      "Length 1000: 0.15687 seconds\n"
     ]
    }
   ],
   "source": [
    "# bubble sort\n",
    "array_lengths = [200,400,600,800,1000]\n",
    "arrays = []\n",
    "bubble_sort_execution_times = []\n",
    "print('Bubble Sort execution time on arrays of different lengths', '\\n')\n",
    "\n",
    "for length in array_lengths: # create five arrays\n",
    "    string_array = create_string_array(length)\n",
    "    arrays.append(string_array)\n",
    "\n",
    "for i in arrays:\n",
    "    start = time.perf_counter()\n",
    "    bubble_sort(i)\n",
    "    end = time.perf_counter()\n",
    "    bubble_sort_execution_time = round((end-start),5)\n",
    "    print(f'Length {len(i)}: {bubble_sort_execution_time} seconds')\n",
    "    bubble_sort_execution_times.append(bubble_sort_execution_time)"
   ]
  },
  {
   "cell_type": "code",
   "execution_count": 23,
   "metadata": {},
   "outputs": [
    {
     "name": "stdout",
     "output_type": "stream",
     "text": [
      "Insertion Sort execution time on arrays of different lengths \n",
      "\n",
      "Length 200: 0.0028 seconds\n",
      "Length 400: 0.00881 seconds\n",
      "Length 600: 0.02115 seconds\n",
      "Length 800: 0.05103 seconds\n",
      "Length 1000: 0.06452 seconds\n"
     ]
    }
   ],
   "source": [
    "# insertion sort\n",
    "array_lengths = [200,400,600,800,1000]\n",
    "arrays = []\n",
    "insertion_sort_execution_times = []\n",
    "print('Insertion Sort execution time on arrays of different lengths', '\\n')\n",
    "\n",
    "for length in array_lengths: # create five arrays\n",
    "    string_array = create_string_array(length)\n",
    "    arrays.append(string_array)\n",
    "\n",
    "for i in arrays:\n",
    "    start = time.perf_counter()\n",
    "    insertion_sort(i)\n",
    "    end = time.perf_counter()\n",
    "    insertion_sort_execution_time = round((end-start),5)\n",
    "    print(f'Length {len(i)}: {insertion_sort_execution_time} seconds')\n",
    "    insertion_sort_execution_times.append(insertion_sort_execution_time)"
   ]
  },
  {
   "cell_type": "markdown",
   "metadata": {},
   "source": [
    "**4. Create a table containing each algorithm and the timings for each list.  Provide a graph showing how each algorithm scales with size of list (also compare the algorithms themselves).  Discuss your findings with explanations for what you observe.**"
   ]
  },
  {
   "cell_type": "code",
   "execution_count": 24,
   "metadata": {},
   "outputs": [
    {
     "data": {
      "text/html": [
       "<div>\n",
       "<style scoped>\n",
       "    .dataframe tbody tr th:only-of-type {\n",
       "        vertical-align: middle;\n",
       "    }\n",
       "\n",
       "    .dataframe tbody tr th {\n",
       "        vertical-align: top;\n",
       "    }\n",
       "\n",
       "    .dataframe thead th {\n",
       "        text-align: right;\n",
       "    }\n",
       "</style>\n",
       "<table border=\"1\" class=\"dataframe\">\n",
       "  <thead>\n",
       "    <tr style=\"text-align: right;\">\n",
       "      <th></th>\n",
       "      <th>array_lengths</th>\n",
       "      <th>bubble_sort_times</th>\n",
       "      <th>insertion_sort_times</th>\n",
       "      <th>merge_sort_times</th>\n",
       "      <th>quick_sort_times</th>\n",
       "    </tr>\n",
       "  </thead>\n",
       "  <tbody>\n",
       "    <tr>\n",
       "      <th>0</th>\n",
       "      <td>200</td>\n",
       "      <td>0.00563</td>\n",
       "      <td>0.00280</td>\n",
       "      <td>0.00110</td>\n",
       "      <td>0.00260</td>\n",
       "    </tr>\n",
       "    <tr>\n",
       "      <th>1</th>\n",
       "      <td>400</td>\n",
       "      <td>0.02358</td>\n",
       "      <td>0.00881</td>\n",
       "      <td>0.00258</td>\n",
       "      <td>0.00368</td>\n",
       "    </tr>\n",
       "    <tr>\n",
       "      <th>2</th>\n",
       "      <td>600</td>\n",
       "      <td>0.05305</td>\n",
       "      <td>0.02115</td>\n",
       "      <td>0.00440</td>\n",
       "      <td>0.00349</td>\n",
       "    </tr>\n",
       "    <tr>\n",
       "      <th>3</th>\n",
       "      <td>800</td>\n",
       "      <td>0.10301</td>\n",
       "      <td>0.05103</td>\n",
       "      <td>0.00437</td>\n",
       "      <td>0.00299</td>\n",
       "    </tr>\n",
       "    <tr>\n",
       "      <th>4</th>\n",
       "      <td>1000</td>\n",
       "      <td>0.15687</td>\n",
       "      <td>0.06452</td>\n",
       "      <td>0.00490</td>\n",
       "      <td>0.00252</td>\n",
       "    </tr>\n",
       "  </tbody>\n",
       "</table>\n",
       "</div>"
      ],
      "text/plain": [
       "   array_lengths  bubble_sort_times  insertion_sort_times  merge_sort_times  \\\n",
       "0            200            0.00563               0.00280           0.00110   \n",
       "1            400            0.02358               0.00881           0.00258   \n",
       "2            600            0.05305               0.02115           0.00440   \n",
       "3            800            0.10301               0.05103           0.00437   \n",
       "4           1000            0.15687               0.06452           0.00490   \n",
       "\n",
       "   quick_sort_times  \n",
       "0           0.00260  \n",
       "1           0.00368  \n",
       "2           0.00349  \n",
       "3           0.00299  \n",
       "4           0.00252  "
      ]
     },
     "execution_count": 24,
     "metadata": {},
     "output_type": "execute_result"
    }
   ],
   "source": [
    "execution_times_df = pd.DataFrame(\n",
    "{\n",
    "    'array_lengths'         : array_lengths\n",
    "    ,'quick_sort_times'     : quick_sort_execution_times\n",
    "    ,'merge_sort_times'     : merge_sort_execution_times\n",
    "    ,'bubble_sort_times'    : bubble_sort_execution_times\n",
    "    ,'insertion_sort_times' : insertion_sort_execution_times\n",
    "})\n",
    "\n",
    "execution_times_df"
   ]
  },
  {
   "cell_type": "code",
   "execution_count": 25,
   "metadata": {},
   "outputs": [
    {
     "data": {
      "image/png": "[encoded data removed]",
      "text/plain": [
       "<Figure size 720x720 with 1 Axes>"
      ]
     },
     "metadata": {},
     "output_type": "display_data"
    }
   ],
   "source": [
    "ax = sns.lineplot(x='array_lengths', y='quick_sort_times', data=execution_times_df)\n",
    "ax = sns.lineplot(x='array_lengths', y='merge_sort_times', data=execution_times_df)\n",
    "ax = sns.lineplot(x='array_lengths', y='bubble_sort_times', data=execution_times_df)\n",
    "ax = sns.lineplot(x='array_lengths', y='insertion_sort_times', data=execution_times_df)\n",
    "ax.legend(['Quick Sort','Merge Sort','Bubble Sort','Insertion Sort'])\n",
    "\n",
    "plt.title('Execution Times for Arrays of Different Lengths')\n",
    "plt.xlabel('Array Length')\n",
    "plt.ylabel('Execution Time (s)')\n",
    "plt.xticks(array_lengths)\n",
    "plt.rcParams[\"figure.figsize\"] = (10,10)\n",
    "plt.show()"
   ]
  },
  {
   "cell_type": "markdown",
   "metadata": {},
   "source": [
    "The table and graph indicate that quick sort and merge sort are roughly comparable in performance across datasets of different sizes.  Insertion sort is inferior, with performance between linear time O(n) or polynomial O(n^k).  Bubble sort is the worst, with quadratic time O(n^2).  "
   ]
  },
  {
   "cell_type": "markdown",
   "metadata": {},
   "source": [
    "**Prepare an executive summary of your results, referring to the table and figures you have generated. Explain how your results relate to big O notation. Describe your results in language that management can understand. This summary should be included as text paragraphs in the Jupyter notebook. Explain how the algorithm works and why it is a useful to data engineers.**"
   ]
  },
  {
   "cell_type": "markdown",
   "metadata": {},
   "source": [
    "In this study, we evaluate the performance of different sorting algorithms.  Sorting and searching are two major types of algorithms.  Different factors affect our choice of sorting algorithm, such as the number of elements, the available space, budget, and other priorities in our application.  \n",
    "\n",
    "We find that Quick Sort and Merge Sort perform almost equally well.  They are different from the other algorithms in that they use divide and conquer approaches.  They are ideal for sorting larger datasets, while other types are more suited for sorting smaller datasets.  They generally run at O(nlogn).  If sorting in memory, I would recommend using quick sort, whereas if fetching data from resources outside of memory, I would recommend merge sort.  \n",
    "\n",
    "Insertion sort performs at O(n^2) on average, and worst case is O(n^2).  Insertion sort is used when number of elements is small.  Bubble Sort is the simplest sorting algorithm, but it is not practical for most industry situations due to slow speed and dependence on whether the array is already sorted. "
   ]
  }
 ],
 "metadata": {
  "kernelspec": {
   "display_name": "Python 3",
   "language": "python",
   "name": "python3"
  },
  "language_info": {
   "codemirror_mode": {
    "name": "ipython",
    "version": 3
   },
   "file_extension": ".py",
   "mimetype": "text/x-python",
   "name": "python",
   "nbconvert_exporter": "python",
   "pygments_lexer": "ipython3",
   "version": "3.6.8"
  }
 },
 "nbformat": 4,
 "nbformat_minor": 2
}
