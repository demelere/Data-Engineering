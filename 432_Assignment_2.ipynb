{
 "cells": [
  {
   "cell_type": "markdown",
   "metadata": {},
   "source": [
    "# Module 2 Assignment: Selection Sort Algorithm Implementation\n",
    "## Stephen Lin"
   ]
  },
  {
   "cell_type": "code",
   "execution_count": 1,
   "metadata": {},
   "outputs": [],
   "source": [
    "import numpy as np\n",
    "import pandas as pd\n",
    "import matplotlib.pyplot as plt\n",
    "import seaborn as sns\n",
    "import time\n",
    "import random\n",
    "import string"
   ]
  },
  {
   "cell_type": "code",
   "execution_count": 2,
   "metadata": {},
   "outputs": [],
   "source": [
    "# Finds the smallest value in an array\n",
    "def findSmallest(arr):\n",
    "  # Stores the smallest value\n",
    "  smallest = arr[0]\n",
    "  # Stores the index of the smallest value\n",
    "  smallest_index = 0\n",
    "  for i in range(1, len(arr)):\n",
    "    if arr[i] < smallest:\n",
    "      smallest_index = i\n",
    "      smallest = arr[i]      \n",
    "  return smallest_index\n",
    "\n",
    "# Sort array\n",
    "def selectionSort(arr):\n",
    "  newArr = []\n",
    "  for i in range(len(arr)):\n",
    "      # Finds the smallest element in the array and adds it to the new array\n",
    "      smallest = findSmallest(arr)\n",
    "      newArr.append(arr.pop(smallest))\n",
    "  return newArr"
   ]
  },
  {
   "cell_type": "markdown",
   "metadata": {},
   "source": [
    "**1. We will again generate random data for this assignment.  Please set up five data arrays of length 5,000, 10,000, 15,000, 20,000, and 25,000 of uniformly distributed random numbers (you may use either integers or floating point).  Ensure that a common random number seed is used to generate each of the arrays.** "
   ]
  },
  {
   "cell_type": "code",
   "execution_count": 3,
   "metadata": {},
   "outputs": [],
   "source": [
    "array_lengths = [5000, 10000, 15000, 20000, 25000]\n",
    "arrays = []\n",
    "\n",
    "# Loop through list and appends randomly generated, uniformly distributed lists of numbers of different lengths\n",
    "for i in array_lengths:\n",
    "    np.random.seed(500)    \n",
    "    float = list(np.random.uniform(0,1000000,i))\n",
    "    arrays.append(float)"
   ]
  },
  {
   "cell_type": "markdown",
   "metadata": {},
   "source": [
    "**2. Execute the base algorithm (Selection Sort) for each of the random number arrays, noting the execution time with each execution. Use one of the timing methods we learned in class.**"
   ]
  },
  {
   "cell_type": "code",
   "execution_count": 4,
   "metadata": {},
   "outputs": [],
   "source": [
    "execution_times = []\n",
    "\n",
    "# Execute selection sort on float arrays\n",
    "for i in range(len(arrays)):\n",
    "    start_time = time.perf_counter()\n",
    "    selectionSort(arrays[i])\n",
    "    stop_time = time.perf_counter()\n",
    "    execution_time = (stop_time-start_time)*1000 # convert\n",
    "    execution_times.append(execution_time)"
   ]
  },
  {
   "cell_type": "markdown",
   "metadata": {},
   "source": [
    "**3. Just as in the last assignment, please organize the results of the study into a table showing the size of data array and the time taken to sort the array. Discuss the differences in timing and how they relate to data type and length of array.**"
   ]
  },
  {
   "cell_type": "code",
   "execution_count": 5,
   "metadata": {},
   "outputs": [
    {
     "data": {
      "text/html": [
       "<div>\n",
       "<style scoped>\n",
       "    .dataframe tbody tr th:only-of-type {\n",
       "        vertical-align: middle;\n",
       "    }\n",
       "\n",
       "    .dataframe tbody tr th {\n",
       "        vertical-align: top;\n",
       "    }\n",
       "\n",
       "    .dataframe thead th {\n",
       "        text-align: right;\n",
       "    }\n",
       "</style>\n",
       "<table border=\"1\" class=\"dataframe\">\n",
       "  <thead>\n",
       "    <tr style=\"text-align: right;\">\n",
       "      <th></th>\n",
       "      <th>Array Length</th>\n",
       "      <th>Execution Time</th>\n",
       "    </tr>\n",
       "  </thead>\n",
       "  <tbody>\n",
       "    <tr>\n",
       "      <th>0</th>\n",
       "      <td>5000</td>\n",
       "      <td>1555.604127</td>\n",
       "    </tr>\n",
       "    <tr>\n",
       "      <th>1</th>\n",
       "      <td>10000</td>\n",
       "      <td>9031.089620</td>\n",
       "    </tr>\n",
       "    <tr>\n",
       "      <th>2</th>\n",
       "      <td>15000</td>\n",
       "      <td>13715.732026</td>\n",
       "    </tr>\n",
       "    <tr>\n",
       "      <th>3</th>\n",
       "      <td>20000</td>\n",
       "      <td>31554.781702</td>\n",
       "    </tr>\n",
       "    <tr>\n",
       "      <th>4</th>\n",
       "      <td>25000</td>\n",
       "      <td>53811.754918</td>\n",
       "    </tr>\n",
       "  </tbody>\n",
       "</table>\n",
       "</div>"
      ],
      "text/plain": [
       "   Array Length  Execution Time\n",
       "0          5000     1555.604127\n",
       "1         10000     9031.089620\n",
       "2         15000    13715.732026\n",
       "3         20000    31554.781702\n",
       "4         25000    53811.754918"
      ]
     },
     "execution_count": 5,
     "metadata": {},
     "output_type": "execute_result"
    }
   ],
   "source": [
    "df = pd.DataFrame({\n",
    "    'Array Length' : array_lengths,\n",
    "    'Execution Time' : execution_times\n",
    "})\n",
    "\n",
    "df"
   ]
  },
  {
   "cell_type": "markdown",
   "metadata": {},
   "source": [
    "**4. Use Python matplotlib or Seaborn to generate a measure of the size of the data set on the horizontal axis and with execution time in milliseconds on the vertical axis. The plot should show execution time against problem size for each form of the algorithm being tested.**"
   ]
  },
  {
   "cell_type": "code",
   "execution_count": 6,
   "metadata": {},
   "outputs": [
    {
     "data": {
      "image/png": "[encoded data removed]",
      "text/plain": [
       "<Figure size 432x288 with 1 Axes>"
      ]
     },
     "metadata": {},
     "output_type": "display_data"
    }
   ],
   "source": [
    "ax = sns.lineplot(x='Array Length', y='Execution Time', data=df)\n",
    "\n",
    "plt.title('Selection Sort Execution Time on Different Arrays')\n",
    "plt.xlabel('Array Length')\n",
    "plt.ylabel('Execution Time (s)')\n",
    "plt.xticks([5000,10000,15000,20000,25000])\n",
    "plt.rcParams[\"figure.figsize\"] = (5,5)\n",
    "\n",
    "plt.show()"
   ]
  },
  {
   "cell_type": "markdown",
   "metadata": {},
   "source": [
    "**5. Extra Credit #1 (6 points) :  Do the same thing for each of the following four data types:  (1) uniformly distributed random integer, (2) uniformly distributed random float, (3) randomly generated text string of length 5, and (4) randomly generated text string of length 15.  You can use something like this to generate the strings if you'd like**"
   ]
  },
  {
   "cell_type": "code",
   "execution_count": 7,
   "metadata": {},
   "outputs": [],
   "source": [
    "integers_arrays = []\n",
    "floats_arrays = []\n",
    "strings_len_5_arrays = []\n",
    "strings_len_15_arrays = []\n",
    "\n",
    "# Loop through list and appends randomly generated, uniformly distributed lists of numbers of different lengths\n",
    "for i in array_lengths:\n",
    "    np.random.seed(500)    \n",
    "    \n",
    "    # create list of random integers    \n",
    "    integers = list(np.random.randint(0,1000000,i))\n",
    "    integers_arrays.append(integers)\n",
    "    \n",
    "    # create list of random uniform floats    \n",
    "    floats = list(np.random.uniform(0,1000000,i))\n",
    "    floats_arrays.append(floats)\n",
    "\n",
    "    # create list of random strings of length 5\n",
    "    strings_len_5 = [''.join(random.choices(string.ascii_letters, k = 5)) for j in range(i)]\n",
    "    strings_len_5_arrays.append(strings_len_5)\n",
    "    \n",
    "    # create list of random strings of length 15\n",
    "    strings_len_15 = [''.join(random.choices(string.ascii_letters, k = 15)) for j in range(i)]\n",
    "    strings_len_15_arrays.append(strings_len_15)"
   ]
  },
  {
   "cell_type": "code",
   "execution_count": 8,
   "metadata": {},
   "outputs": [],
   "source": [
    "integers_execution_times = []\n",
    "floats_execution_times = []\n",
    "strings_len_5_execution_times = []\n",
    "strings_len_15_execution_times = []\n",
    "\n",
    "for i in range(len(integers_arrays)):\n",
    "    start_time = time.perf_counter()\n",
    "    selectionSort(integers_arrays[i])\n",
    "    stop_time = time.perf_counter()\n",
    "    execution_time = (start-stop)*1000\n",
    "    integers_execution_times.append(execution_time)\n",
    "\n",
    "for i in range(len(floats_arrays)):\n",
    "    start_time = time.perf_counter()\n",
    "    selectionSort(floats_arrays[i])\n",
    "    stop_time = time.perf_counter()\n",
    "    execution_time = (start-stop)*1000\n",
    "    floats_execution_times.append(execution_time)\n",
    "\n",
    "for i in range(len(strings_len_5_arrays)):\n",
    "    start_time = time.perf_counter()\n",
    "    selectionSort(strings_len_5_arrays[i])\n",
    "    stop_time = time.perf_counter()\n",
    "    execution_time = (start-stop)*1000\n",
    "    strings_len_5_execution_times.append(execution_time)\n",
    "    \n",
    "for i in range(len(strings_len_15_arrays)):\n",
    "    start_time = time.perf_counter()\n",
    "    selectionSort(strings_len_15_arrays[i])\n",
    "    stop_time = time.perf_counter()\n",
    "    execution_time = (start-stop)*1000\n",
    "    strings_len_15_execution_times.append(execution_time)"
   ]
  },
  {
   "cell_type": "code",
   "execution_count": 9,
   "metadata": {},
   "outputs": [
    {
     "data": {
      "text/html": [
       "<div>\n",
       "<style scoped>\n",
       "    .dataframe tbody tr th:only-of-type {\n",
       "        vertical-align: middle;\n",
       "    }\n",
       "\n",
       "    .dataframe tbody tr th {\n",
       "        vertical-align: top;\n",
       "    }\n",
       "\n",
       "    .dataframe thead th {\n",
       "        text-align: right;\n",
       "    }\n",
       "</style>\n",
       "<table border=\"1\" class=\"dataframe\">\n",
       "  <thead>\n",
       "    <tr style=\"text-align: right;\">\n",
       "      <th></th>\n",
       "      <th>Array Size</th>\n",
       "      <th>Float Execution Time</th>\n",
       "      <th>Integer Execution Time</th>\n",
       "      <th>Strings Length 15 Execution Time</th>\n",
       "      <th>Strings Length 5 Execution Time</th>\n",
       "    </tr>\n",
       "  </thead>\n",
       "  <tbody>\n",
       "    <tr>\n",
       "      <th>0</th>\n",
       "      <td>5000</td>\n",
       "      <td>-1610.644389</td>\n",
       "      <td>-2883.594401</td>\n",
       "      <td>-1684.026438</td>\n",
       "      <td>-1691.202350</td>\n",
       "    </tr>\n",
       "    <tr>\n",
       "      <th>1</th>\n",
       "      <td>10000</td>\n",
       "      <td>-6330.925065</td>\n",
       "      <td>-11161.924339</td>\n",
       "      <td>-8288.845229</td>\n",
       "      <td>-5883.803699</td>\n",
       "    </tr>\n",
       "    <tr>\n",
       "      <th>2</th>\n",
       "      <td>15000</td>\n",
       "      <td>-14629.208440</td>\n",
       "      <td>-18607.123760</td>\n",
       "      <td>-13672.202991</td>\n",
       "      <td>-14194.591194</td>\n",
       "    </tr>\n",
       "    <tr>\n",
       "      <th>3</th>\n",
       "      <td>20000</td>\n",
       "      <td>-27691.172184</td>\n",
       "      <td>-29779.921077</td>\n",
       "      <td>-20982.841165</td>\n",
       "      <td>-23017.078019</td>\n",
       "    </tr>\n",
       "    <tr>\n",
       "      <th>4</th>\n",
       "      <td>25000</td>\n",
       "      <td>-41684.963189</td>\n",
       "      <td>-40073.908234</td>\n",
       "      <td>-35929.245657</td>\n",
       "      <td>-35822.451765</td>\n",
       "    </tr>\n",
       "  </tbody>\n",
       "</table>\n",
       "</div>"
      ],
      "text/plain": [
       "   Array Size  Float Execution Time  Integer Execution Time  \\\n",
       "0        5000          -1610.644389            -2883.594401   \n",
       "1       10000          -6330.925065           -11161.924339   \n",
       "2       15000         -14629.208440           -18607.123760   \n",
       "3       20000         -27691.172184           -29779.921077   \n",
       "4       25000         -41684.963189           -40073.908234   \n",
       "\n",
       "   Strings Length 15 Execution Time  Strings Length 5 Execution Time  \n",
       "0                      -1684.026438                     -1691.202350  \n",
       "1                      -8288.845229                     -5883.803699  \n",
       "2                     -13672.202991                    -14194.591194  \n",
       "3                     -20982.841165                    -23017.078019  \n",
       "4                     -35929.245657                    -35822.451765  "
      ]
     },
     "execution_count": 9,
     "metadata": {},
     "output_type": "execute_result"
    }
   ],
   "source": [
    "execution_times_df= pd.DataFrame({\n",
    "    'Array Size' : array_lengths,\n",
    "    \"Integer Execution Time\" : integers_execution_times,\n",
    "    \"Float Execution Time\" : floats_execution_times,\n",
    "    \"Strings Length 5 Execution Time\" : strings_len_5_execution_times,\n",
    "    \"Strings Length 15 Execution Time\" : strings_len_15_execution_times\n",
    "})\n",
    "\n",
    "execution_times_df"
   ]
  },
  {
   "cell_type": "code",
   "execution_count": 10,
   "metadata": {},
   "outputs": [
    {
     "data": {
      "image/png": "[encoded data removed]",
      "text/plain": [
       "<Figure size 360x360 with 1 Axes>"
      ]
     },
     "metadata": {},
     "output_type": "display_data"
    }
   ],
   "source": [
    "ax = sns.lineplot(x='Array Size', y='Integer Execution Time', data=execution_times_df)\n",
    "ax = sns.lineplot(x='Array Size', y='Float Execution Time', data=execution_times_df)\n",
    "ax = sns.lineplot(x='Array Size', y='Strings Length 5 Execution Time', data=execution_times_df)\n",
    "ax = sns.lineplot(x='Array Size', y='Strings Length 15 Execution Time', data=execution_times_df)\n",
    "ax.legend(['Integer','Float','String(5)','String(15)'],prop={'size': 10})\n",
    "\n",
    "plt.title('Selection Sort Execution Time')\n",
    "plt.xlabel('Array Length')\n",
    "plt.ylabel('Execution Time (s)')\n",
    "plt.xticks([0,5000,10000,15000,20000,25000])\n",
    "plt.rcParams[\"figure.figsize\"] = (5,5)\n",
    "\n",
    "plt.show()"
   ]
  },
  {
   "cell_type": "markdown",
   "metadata": {},
   "source": [
    "**6. Extra Credit #2 (4 points):  For each of the four sections in this assignment, make a commit to your git repository that includes (1) a summary, (2) a description, and (3) your code changes.  Please upload all four diff files to the comments section of the Assignment submission OR share your github repo with me as a collaborator so I can view it online (username llevenson).**"
   ]
  },
  {
   "cell_type": "markdown",
   "metadata": {},
   "source": [
    "Please see attached diff files"
   ]
  },
  {
   "cell_type": "markdown",
   "metadata": {},
   "source": [
    "**7. Prepare an executive summary of your results, referring to the table and figures you have generated. Explain how your results relate to big O notation. Describe your results in language that management can understand. This summary should be included as text paragraphs in the Jupyter notebook. Explain how the algorithm works and why it is a useful to data engineers.**"
   ]
  },
  {
   "cell_type": "code",
   "execution_count": null,
   "metadata": {},
   "outputs": [],
   "source": []
  }
 ],
 "metadata": {
  "kernelspec": {
   "display_name": "Python 3",
   "language": "python",
   "name": "python3"
  },
  "language_info": {
   "codemirror_mode": {
    "name": "ipython",
    "version": 3
   },
   "file_extension": ".py",
   "mimetype": "text/x-python",
   "name": "python",
   "nbconvert_exporter": "python",
   "pygments_lexer": "ipython3",
   "version": "3.6.8"
  }
 },
 "nbformat": 4,
 "nbformat_minor": 2
}
