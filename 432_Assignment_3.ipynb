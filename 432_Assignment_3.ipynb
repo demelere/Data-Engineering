{
 "cells": [
  {
   "cell_type": "markdown",
   "metadata": {},
   "source": [
    "# Module 3 Assignment: Recursion Implementation\n",
    "## Stephen Lin"
   ]
  },
  {
   "cell_type": "code",
   "execution_count": 26,
   "metadata": {},
   "outputs": [],
   "source": [
    "import pandas as pd\n",
    "import numpy as np\n",
    "import time\n",
    "import matplotlib.pyplot as plt\n",
    "import seaborn as sns\n",
    "import os\n",
    "import sys\n",
    "from pathlib import Path\n",
    "from functools import reduce"
   ]
  },
  {
   "cell_type": "code",
   "execution_count": 27,
   "metadata": {},
   "outputs": [],
   "source": [
    "def fact(x):\n",
    "  if x == 1:\n",
    "    return 1\n",
    "  else:\n",
    "    return x * fact(x-1)"
   ]
  },
  {
   "cell_type": "markdown",
   "metadata": {},
   "source": [
    "**1. Set up an array of ten random numbers between 100 and 500 (just one array with 10 numbers).**"
   ]
  },
  {
   "cell_type": "code",
   "execution_count": 28,
   "metadata": {},
   "outputs": [
    {
     "name": "stdout",
     "output_type": "stream",
     "text": [
      "[446, 421, 373, 306, 387, 172, 427, 433, 337, 373]\n"
     ]
    }
   ],
   "source": [
    "np.random.seed(500)\n",
    "random_numbers = list(np.random.randint(100, 500, 10))\n",
    "print(random_numbers)"
   ]
  },
  {
   "cell_type": "markdown",
   "metadata": {},
   "source": [
    "**2. Calculate the factorial of each of the numbers using a simple FOR loop.  Please capture the start/end times and store the results in an array, or linked list, or dictionary.**"
   ]
  },
  {
   "cell_type": "code",
   "execution_count": 29,
   "metadata": {},
   "outputs": [
    {
     "name": "stdout",
     "output_type": "stream",
     "text": [
      "[0.001369999154121615, 0.0006850004865555093, 0.0006860009307274595, 0.0005609999789157882, 0.0005060010153101757, 0.0005700003384845331, 0.0007100006769178435, 0.0006220016075531021, 0.00038800135371275246, 0.0006180016498547047]\n"
     ]
    }
   ],
   "source": [
    "for_loop_times = []\n",
    "for_loop_factorials = []\n",
    "\n",
    "for i in random_numbers:\n",
    "    factorial = 1\n",
    "    execution_time = 0\n",
    "    \n",
    "    for k in range(1,i+1):\n",
    "        start = time.perf_counter()\n",
    "        factorial = factorial*k\n",
    "        stop = time.perf_counter()\n",
    "        execution_time = (stop-start)*1000\n",
    "        \n",
    "    for_loop_times.append(execution_time)\n",
    "    for_loop_factorials.append(factorial)\n",
    "    \n",
    "print(for_loop_times)\n",
    "# print(for_factorials)"
   ]
  },
  {
   "cell_type": "markdown",
   "metadata": {},
   "source": [
    "**3. Calculate the factorial of each of the numbers using recursion.  Please capture the start/end times and store the results in an array, or linked list, or dictionary.**"
   ]
  },
  {
   "cell_type": "code",
   "execution_count": 36,
   "metadata": {},
   "outputs": [
    {
     "name": "stdout",
     "output_type": "stream",
     "text": [
      "[2.5548710000293795, 0.3898069990100339, 0.34133900044253096, 0.25070199990295805, 0.23043800138111692, 0.0964780010690447, 0.4478680002648616, 0.2571519999037264, 0.18326499957765918, 0.20369199955894146]\n"
     ]
    }
   ],
   "source": [
    "recursion_times = []\n",
    "recursion_factorials = []\n",
    "\n",
    "for i in [446, 421, 373, 306, 387, 172, 427, 433, 337, 373]:\n",
    "    start = time.perf_counter()\n",
    "    factorial = fact(i)\n",
    "    stop = time.perf_counter()\n",
    "    execution_time = (stop-start)*1000\n",
    "    \n",
    "    recursion_factorials.append(factorial)\n",
    "    recursion_times.append(execution_time)\n",
    "    \n",
    "print(recursion_times)"
   ]
  },
  {
   "cell_type": "markdown",
   "metadata": {},
   "source": [
    "**4. Organize the results of the study into a table showing the number, it's factorial, the time to calculate the factorial using recursion, the time to calculate factorial using FOR loop, and the difference between times.**"
   ]
  },
  {
   "cell_type": "code",
   "execution_count": 31,
   "metadata": {
    "scrolled": true
   },
   "outputs": [
    {
     "data": {
      "text/html": [
       "<div>\n",
       "<style scoped>\n",
       "    .dataframe tbody tr th:only-of-type {\n",
       "        vertical-align: middle;\n",
       "    }\n",
       "\n",
       "    .dataframe tbody tr th {\n",
       "        vertical-align: top;\n",
       "    }\n",
       "\n",
       "    .dataframe thead th {\n",
       "        text-align: right;\n",
       "    }\n",
       "</style>\n",
       "<table border=\"1\" class=\"dataframe\">\n",
       "  <thead>\n",
       "    <tr style=\"text-align: right;\">\n",
       "      <th></th>\n",
       "      <th>number</th>\n",
       "      <th>for loop time</th>\n",
       "      <th>recursion time</th>\n",
       "      <th>time difference</th>\n",
       "    </tr>\n",
       "  </thead>\n",
       "  <tbody>\n",
       "    <tr>\n",
       "      <th>0</th>\n",
       "      <td>446</td>\n",
       "      <td>0.001370</td>\n",
       "      <td>0.784778</td>\n",
       "      <td>0.783408</td>\n",
       "    </tr>\n",
       "    <tr>\n",
       "      <th>1</th>\n",
       "      <td>421</td>\n",
       "      <td>0.000685</td>\n",
       "      <td>0.229208</td>\n",
       "      <td>0.228523</td>\n",
       "    </tr>\n",
       "    <tr>\n",
       "      <th>2</th>\n",
       "      <td>373</td>\n",
       "      <td>0.000686</td>\n",
       "      <td>0.208250</td>\n",
       "      <td>0.207564</td>\n",
       "    </tr>\n",
       "    <tr>\n",
       "      <th>3</th>\n",
       "      <td>306</td>\n",
       "      <td>0.000561</td>\n",
       "      <td>0.153642</td>\n",
       "      <td>0.153081</td>\n",
       "    </tr>\n",
       "    <tr>\n",
       "      <th>4</th>\n",
       "      <td>387</td>\n",
       "      <td>0.000506</td>\n",
       "      <td>0.185725</td>\n",
       "      <td>0.185219</td>\n",
       "    </tr>\n",
       "    <tr>\n",
       "      <th>5</th>\n",
       "      <td>172</td>\n",
       "      <td>0.000570</td>\n",
       "      <td>0.068898</td>\n",
       "      <td>0.068328</td>\n",
       "    </tr>\n",
       "    <tr>\n",
       "      <th>6</th>\n",
       "      <td>427</td>\n",
       "      <td>0.000710</td>\n",
       "      <td>0.233951</td>\n",
       "      <td>0.233241</td>\n",
       "    </tr>\n",
       "    <tr>\n",
       "      <th>7</th>\n",
       "      <td>433</td>\n",
       "      <td>0.000622</td>\n",
       "      <td>0.238660</td>\n",
       "      <td>0.238038</td>\n",
       "    </tr>\n",
       "    <tr>\n",
       "      <th>8</th>\n",
       "      <td>337</td>\n",
       "      <td>0.000388</td>\n",
       "      <td>0.173102</td>\n",
       "      <td>0.172714</td>\n",
       "    </tr>\n",
       "    <tr>\n",
       "      <th>9</th>\n",
       "      <td>373</td>\n",
       "      <td>0.000618</td>\n",
       "      <td>0.175282</td>\n",
       "      <td>0.174664</td>\n",
       "    </tr>\n",
       "  </tbody>\n",
       "</table>\n",
       "</div>"
      ],
      "text/plain": [
       "   number  for loop time  recursion time  time difference\n",
       "0     446       0.001370        0.784778         0.783408\n",
       "1     421       0.000685        0.229208         0.228523\n",
       "2     373       0.000686        0.208250         0.207564\n",
       "3     306       0.000561        0.153642         0.153081\n",
       "4     387       0.000506        0.185725         0.185219\n",
       "5     172       0.000570        0.068898         0.068328\n",
       "6     427       0.000710        0.233951         0.233241\n",
       "7     433       0.000622        0.238660         0.238038\n",
       "8     337       0.000388        0.173102         0.172714\n",
       "9     373       0.000618        0.175282         0.174664"
      ]
     },
     "execution_count": 31,
     "metadata": {},
     "output_type": "execute_result"
    }
   ],
   "source": [
    "time_difference = [recursion_times - for_loop_times for recursion_times, for_loop_times in zip(recursion_times, for_loop_times)]\n",
    "\n",
    "results_df = pd.DataFrame(\n",
    "        {'number' : random_numbers\n",
    "        ,'recursion time' : recursion_times\n",
    "        ,'for loop time'  : for_loop_times\n",
    "        ,'time difference' : time_difference\n",
    "        })\n",
    "\n",
    "results_df[['number','for loop time','recursion time','time difference']]"
   ]
  },
  {
   "cell_type": "markdown",
   "metadata": {},
   "source": [
    "**5. Use python matplotlib or seaborn to generate a graph that has number on the horizontal axis and with execution time in milliseconds on the vertical axis. The plot should show execution times of recursion and the loop.**"
   ]
  },
  {
   "cell_type": "code",
   "execution_count": 32,
   "metadata": {},
   "outputs": [
    {
     "data": {
      "image/png": "[encoded data removed]",
      "text/plain": [
       "<Figure size 432x288 with 1 Axes>"
      ]
     },
     "metadata": {},
     "output_type": "display_data"
    }
   ],
   "source": [
    "ax = sns.lineplot(x='number', y='recursion time', data=results_df)\n",
    "ax = sns.lineplot(x='number', y='for loop time', data=results_df)\n",
    "ax.legend(['Recursion','Iteration'])\n",
    "\n",
    "plt.title('Execution Time')\n",
    "plt.xlabel('Number')\n",
    "plt.ylabel('Execution Time')\n",
    "plt.xticks([100,200,300,400,500])\n",
    "plt.show()"
   ]
  },
  {
   "cell_type": "markdown",
   "metadata": {},
   "source": [
    "**EC1) Python has a built in mechanism that limits the number of recursive function calls.  Please modify the recursive factorial function (or write a new one) to allow numbers greater than this limit set by python without modifying the system recursion limit in python.  By this I mean you should not change sys.setrecursionlimit().  See if you can use the number theoretic properties of the factorial function to come up with a solution.**"
   ]
  },
  {
   "cell_type": "code",
   "execution_count": null,
   "metadata": {},
   "outputs": [],
   "source": []
  },
  {
   "cell_type": "markdown",
   "metadata": {},
   "source": [
    "**EC2) The files on a hard drive are saved in a tree-like structure.  Write a function that will print out every file from a given root using a recursive algorithm.  This is called Directory Tree Traversal (https://www.pythoncentral.io/how-to-traverse-a-directory-tree-in-python-guide-to-os-walk/ (Links to an external site.)).  You may not use any packages to do this (like os.walk, or glob), except to list the files and directories in a single directory.  In other words, you are responsible for the traversal.**"
   ]
  },
  {
   "cell_type": "code",
   "execution_count": 35,
   "metadata": {},
   "outputs": [],
   "source": [
    "def print_files(root_directory):\n",
    "    file_list = []\n",
    "    files = os.listdir(root_directory)\n",
    "    \n",
    "    for i in files:\n",
    "        filepath = \"\".join([root_directory,i,\"/\"])\n",
    "        \n",
    "        if not os.path.isdir(filepath): # base case ending in a file rather than folder\n",
    "            file_list.append(filepath[:-1])    \n",
    "        \n",
    "        else: # recursive case that traverses further if encounters folder and not file\n",
    "            printFiles(filepath) \n",
    "    \n",
    "    return file_list"
   ]
  },
  {
   "cell_type": "markdown",
   "metadata": {},
   "source": [
    "**Executive Summary: Prepare an executive summary of your results, referring to the table and figures you have generated. Explain how your results relate to big O notation. Describe your results in language that management can understand. This summary should be included as text paragraphs in the Jupyter notebook. Explain how the algorithm works and why it is a useful to data engineers.**"
   ]
  },
  {
   "cell_type": "markdown",
   "metadata": {},
   "source": [
    "In this study, we evaluate the performance of iteration (i.e. a for loop) versus recursion.  We evaluate how long each type of function takes to factorialize random numbers (i.e. take the product of the number and all the integers below it).  We find that generally speaking, iteration is a faster, less costly way of computing.  \n",
    "\n",
    "However, recursion is useful for expressing problems that can be broken down into similar sub-problems that can be solved individually, and and whose solutions can be combined together to get an overall solution.  Recursion is a function that calls itself repeatedly until it reaches a base case that tells it to stop.  A recursive function has to invoke a function as well as perform the computation, whereas an iterative function only performs the computation.The time complexity of a recursive function that computes the factorial of a number is linear time, or O(n).  Because of this, in most cases, we would recommend the for loop."
   ]
  }
 ],
 "metadata": {
  "kernelspec": {
   "display_name": "Python 3",
   "language": "python",
   "name": "python3"
  },
  "language_info": {
   "codemirror_mode": {
    "name": "ipython",
    "version": 3
   },
   "file_extension": ".py",
   "mimetype": "text/x-python",
   "name": "python",
   "nbconvert_exporter": "python",
   "pygments_lexer": "ipython3",
   "version": "3.6.8"
  }
 },
 "nbformat": 4,
 "nbformat_minor": 2
}
